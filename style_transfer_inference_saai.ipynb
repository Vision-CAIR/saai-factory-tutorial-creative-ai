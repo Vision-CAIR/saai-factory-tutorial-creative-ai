{
  "nbformat": 4,
  "nbformat_minor": 0,
  "metadata": {
    "colab": {
      "name": "style_transfer_inference_saai.ipynb",
      "provenance": []
    },
    "kernelspec": {
      "name": "python3",
      "display_name": "Python 3"
    },
    "language_info": {
      "name": "python"
    }
  },
  "cells": [
    {
      "cell_type": "markdown",
      "metadata": {
        "id": "tPwoXBRS1zIj"
      },
      "source": [
        "This style transfer inference example is based on Lengstrom's work. This work was supervised by Professor Mohamed Elhoseiny (mohamed.elhoseiny@kaust.edu.sa) from King Abdullah University of Science and Technology for the SAAI Factory International Symposium (https://saai.devpost.com/)\n",
        "\n",
        "Isha Khurram (isha.khurram@mail.utoronto.ca)"
      ]
    },
    {
      "cell_type": "code",
      "metadata": {
        "id": "SKOnJ5N-23M-"
      },
      "source": [
        "!git clone https://github.com/lengstrom/fast-style-transfer.git"
      ],
      "execution_count": null,
      "outputs": []
    },
    {
      "cell_type": "code",
      "metadata": {
        "id": "RVT3v0ZS264x"
      },
      "source": [
        "!pip install moviepy==1.0.2"
      ],
      "execution_count": null,
      "outputs": []
    },
    {
      "cell_type": "code",
      "metadata": {
        "id": "OcQsnzvO2-om"
      },
      "source": [
        "%cd fast-style-transfer/"
      ],
      "execution_count": null,
      "outputs": []
    },
    {
      "cell_type": "markdown",
      "metadata": {
        "id": "dalMI2xt3A2-"
      },
      "source": [
        "Drag setup_new.sh at the same location as setup.sh: https://drive.google.com/file/d/1CEqcp7GAAKhWbP9Z_rpjJ3glNazqAQ9c/view?usp=sharing"
      ]
    },
    {
      "cell_type": "code",
      "metadata": {
        "id": "Prow92QQ3Fgb"
      },
      "source": [
        "!bash setup_new.sh"
      ],
      "execution_count": null,
      "outputs": []
    },
    {
      "cell_type": "code",
      "metadata": {
        "id": "lOFOe13-3GrK"
      },
      "source": [
        "%mkdir -p mydata/train checkpoint output"
      ],
      "execution_count": 5,
      "outputs": []
    },
    {
      "cell_type": "markdown",
      "metadata": {
        "id": "RC3hjD_W3JYj"
      },
      "source": [
        "Drag:      \n",
        "\n",
        "1) Trained network from https://drive.google.com/drive/folders/0B9jhaT37ydSyRk9UX0wwX3BpMzQ?usp=sharing into the checkpoint folder (see left pane)\n",
        "\n",
        "2) Your pictures in /mydata/train. You can access some example photos here: https://drive.google.com/drive/folders/1nGAI6RFetqnQWvZaqKRJFiFvWqBhzThz?usp=sharing"
      ]
    },
    {
      "cell_type": "code",
      "metadata": {
        "id": "t_TJib3-3dVq"
      },
      "source": [
        "!python evaluate.py --checkpoint ./checkpoint/wave.ckpt --in-path ./mydata/train/beacon.jpg --out-path ./output"
      ],
      "execution_count": null,
      "outputs": []
    },
    {
      "cell_type": "markdown",
      "metadata": {
        "id": "4xvOz7pC32R3"
      },
      "source": [
        "Change the name of the picture file (e.g. beacon.jpg) and the trained network name (e.g.scream.ckpt) to generate diverse examples. "
      ]
    }
  ]
}